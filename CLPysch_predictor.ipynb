{
 "cells": [
  {
   "cell_type": "code",
   "execution_count": 2,
   "metadata": {},
   "outputs": [
    {
     "data": {
      "application/vnd.jupyter.widget-view+json": {
       "model_id": "0fd2371067d84cabac8348437c393c3d",
       "version_major": 2,
       "version_minor": 0
      },
      "text/plain": [
       "HBox(children=(IntProgress(value=1, bar_style='info', max=1), HTML(value='')))"
      ]
     },
     "metadata": {},
     "output_type": "display_data"
    },
    {
     "name": "stdout",
     "output_type": "stream",
     "text": [
      "\n"
     ]
    }
   ],
   "source": [
    "import pandas as pd\n",
    "import pickle\n",
    "import random\n",
    "from sklearn.model_selection import train_test_split\n",
    "import matplotlib.pyplot as plt\n",
    "import numpy as np\n",
    "from sklearn import preprocessing\n",
    "from scipy.sparse import hstack,vstack\n",
    "from sklearn.linear_model import LogisticRegression\n",
    "import taskALoader as t_a\n",
    "from sklearn.pipeline import Pipeline\n",
    "from sklearn.feature_extraction.text import TfidfVectorizer\n",
    "from sklearn.svm import LinearSVC,SVC\n",
    "from sklearn.utils import class_weight\n",
    "from sklearn.metrics import classification_report,accuracy_score\n",
    "from sklearn import svm\n",
    "from sklearn.model_selection import GridSearchCV,ShuffleSplit\n",
    "from sklearn.model_selection import PredefinedSplit\n",
    "from sklearn.preprocessing import LabelEncoder\n",
    "from TfidfVectorizerWrapper import TfidfVectorizerWrapper\n",
    "from ast import literal_eval\n",
    "import pickle\n",
    "from sklearn.ensemble import RandomForestClassifier\n",
    "from statistics import mean,stdev\n",
    "from textblob import TextBlob\n",
    "from tqdm import tqdm_notebook as tqdm\n",
    "from torchMojimaster.examples import example_helper\n",
    "from torchMojimaster.examples import deepemojisentiment\n"
   ]
  },
  {
   "cell_type": "code",
   "execution_count": null,
   "metadata": {},
   "outputs": [],
   "source": []
  },
  {
   "cell_type": "code",
   "execution_count": 73,
   "metadata": {},
   "outputs": [],
   "source": [
    "df = pd.read_csv(\"task_A_dataset.csv\").fillna(' ')\n",
    "data = t_a.json_creator(df)\n",
    "\n",
    "X_train_all, X_test = train_test_split(data,test_size=0.2, random_state=1)\n",
    "\n",
    "X_train, X_val = train_test_split(X_train_all,test_size=0.25, random_state=1)"
   ]
  },
  {
   "cell_type": "code",
   "execution_count": null,
   "metadata": {},
   "outputs": [],
   "source": []
  },
  {
   "cell_type": "code",
   "execution_count": null,
   "metadata": {},
   "outputs": [],
   "source": []
  },
  {
   "cell_type": "code",
   "execution_count": 74,
   "metadata": {},
   "outputs": [
    {
     "data": {
      "text/plain": [
       "\"\\n\\n\\n\\nb002_fn = 'B000_DEEPEMOj_model.sav'\\nb002_model = pickle.load(open(b002_fn, 'rb'))           #Sentiment classifier \\n\\n\\n\\n\\n\\n\\np=runBestLogistic(X_train,y_train,X_val,best_pars)\\npred_probs.append(p[0].tolist())\\n\""
      ]
     },
     "execution_count": 74,
     "metadata": {},
     "output_type": "execute_result"
    }
   ],
   "source": [
    "saved_model_path = \"saved_models/\"\n",
    "\n",
    "b000_fn = saved_model_path+'B000_LR_model_basic.sav'\n",
    "b000_model = pickle.load(open(b000_fn, 'rb'))               #Baseline LogisticRegression\n",
    "b001_fn = saved_model_path+'B001_SVM_model_basic.sav'\n",
    "b0001_model = pickle.load(open(b001_fn, 'rb'))           #Baseline SVM\n",
    "\n",
    "b003_fn = saved_model_path+'605_Lb_logi_binary_clf_model.sav'\n",
    "b003_model = pickle.load(open(b003_fn, 'rb'))      #manually_annotated binary classifier\n",
    "\n",
    "e000_fn = saved_model_path+'e007_basic.sav'\n",
    "e000_model = pickle.load(open(e000_fn, 'rb'))      #manually_annotated binary classifier\n",
    "\n",
    "\n",
    "\n",
    "#test_path =  \"clpsych19_test_data/preprocessed_dataset/\"\n",
    "test_path = \"task_A_val_dataset.csv\"\n",
    "\n",
    "'''\n",
    "\n",
    "\n",
    "\n",
    "b002_fn = 'B000_DEEPEMOj_model.sav'\n",
    "b002_model = pickle.load(open(b002_fn, 'rb'))           #Sentiment classifier \n",
    "\n",
    "\n",
    "\n",
    "\n",
    "\n",
    "\n",
    "p=runBestLogistic(X_train,y_train,X_val,best_pars)\n",
    "pred_probs.append(p[0].tolist())\n",
    "'''"
   ]
  },
  {
   "cell_type": "code",
   "execution_count": 75,
   "metadata": {},
   "outputs": [],
   "source": [
    "#df = pd.read_csv(test_path).fillna(' ')\n",
    "#data = t_a.json_creator(df)"
   ]
  },
  {
   "cell_type": "code",
   "execution_count": 76,
   "metadata": {},
   "outputs": [],
   "source": [
    "data = pd.DataFrame(X_val)\n",
    "\n",
    "\n",
    "df_from_json = df.from_dict(data)\n",
    "user_postss = list(df_from_json['posts'])"
   ]
  },
  {
   "cell_type": "code",
   "execution_count": null,
   "metadata": {},
   "outputs": [],
   "source": []
  },
  {
   "cell_type": "code",
   "execution_count": 77,
   "metadata": {},
   "outputs": [
    {
     "data": {
      "text/html": [
       "<div>\n",
       "<style scoped>\n",
       "    .dataframe tbody tr th:only-of-type {\n",
       "        vertical-align: middle;\n",
       "    }\n",
       "\n",
       "    .dataframe tbody tr th {\n",
       "        vertical-align: top;\n",
       "    }\n",
       "\n",
       "    .dataframe thead th {\n",
       "        text-align: right;\n",
       "    }\n",
       "</style>\n",
       "<table border=\"1\" class=\"dataframe\">\n",
       "  <thead>\n",
       "    <tr style=\"text-align: right;\">\n",
       "      <th></th>\n",
       "      <th>label</th>\n",
       "      <th>posts</th>\n",
       "      <th>user_id</th>\n",
       "    </tr>\n",
       "  </thead>\n",
       "  <tbody>\n",
       "    <tr>\n",
       "      <th>0</th>\n",
       "      <td>c</td>\n",
       "      <td>[[9yng4, 1256743121, SuicideWatch, A survivors...</td>\n",
       "      <td>10869</td>\n",
       "    </tr>\n",
       "    <tr>\n",
       "      <th>1</th>\n",
       "      <td>d</td>\n",
       "      <td>[[jvrrt, 1314412249, SuicideWatch, I don't thi...</td>\n",
       "      <td>33604</td>\n",
       "    </tr>\n",
       "    <tr>\n",
       "      <th>2</th>\n",
       "      <td>b</td>\n",
       "      <td>[[35z7ac, 1431631007, SuicideWatch, When does ...</td>\n",
       "      <td>21485</td>\n",
       "    </tr>\n",
       "    <tr>\n",
       "      <th>3</th>\n",
       "      <td>a</td>\n",
       "      <td>[[22ie72, 1396959876, SuicideWatch, /r/gaming ...</td>\n",
       "      <td>2103</td>\n",
       "    </tr>\n",
       "    <tr>\n",
       "      <th>4</th>\n",
       "      <td>a</td>\n",
       "      <td>[[20vl2e, 1395289098, SuicideWatch, My friend ...</td>\n",
       "      <td>48651</td>\n",
       "    </tr>\n",
       "  </tbody>\n",
       "</table>\n",
       "</div>"
      ],
      "text/plain": [
       "  label                                              posts  user_id\n",
       "0     c  [[9yng4, 1256743121, SuicideWatch, A survivors...    10869\n",
       "1     d  [[jvrrt, 1314412249, SuicideWatch, I don't thi...    33604\n",
       "2     b  [[35z7ac, 1431631007, SuicideWatch, When does ...    21485\n",
       "3     a  [[22ie72, 1396959876, SuicideWatch, /r/gaming ...     2103\n",
       "4     a  [[20vl2e, 1395289098, SuicideWatch, My friend ...    48651"
      ]
     },
     "execution_count": 77,
     "metadata": {},
     "output_type": "execute_result"
    }
   ],
   "source": [
    "df_from_json.head()"
   ]
  },
  {
   "cell_type": "code",
   "execution_count": 78,
   "metadata": {},
   "outputs": [],
   "source": [
    "\n",
    "all_posts = []\n",
    "all_posts_bin_clf = []\n",
    "\n",
    "\n",
    "min_prob = []\n",
    "max_prob = []\n",
    "avg_prob = []\n",
    "std_prob = []\n",
    "\n",
    "post_count = []\n",
    "sentiment_prob = []\n",
    "\n",
    "\n",
    "\n",
    "\n",
    "    \n",
    "for user in user_postss:\n",
    "    one_user_posts_bin = []\n",
    "    one_user_sentiment_bin = []\n",
    "    one_user_posts = ''\n",
    "    \n",
    "    for post_details in user:\n",
    "        \n",
    "        #concatenate title and body of a post and put it through a binary clf model\n",
    "        one_post_bin =  str(post_details[3])+\" \"+str(post_details[4])\n",
    "        prob = b003_model.decision_function([one_post_bin])\n",
    "        one_user_posts_bin.append(prob[0].tolist())\n",
    "        \n",
    "        '''\n",
    "        prob = bin_clf_model.predict_proba([one_post])\n",
    "        one_user_posts.append(prob[0][1].tolist())\n",
    "        '''\n",
    "        sentiment = TextBlob(one_post_bin)\n",
    "        one_user_sentiment_bin.append(sentiment.sentiment[1])\n",
    "        \n",
    "        \n",
    "        #Concatenate every post from a user\n",
    "        one_user_posts=one_user_posts+\" \"+str(post_details[3])+\" \"+str(post_details[3])+\" \"+str(post_details[4])\n",
    "    \n",
    "    \n",
    "    \n",
    "    all_posts_bin_clf.append(one_user_posts_bin)\n",
    "    sentiment_prob.append(max(one_user_sentiment_bin))\n",
    "    \n",
    "    all_posts.append(one_user_posts)\n",
    "    \n"
   ]
  },
  {
   "cell_type": "code",
   "execution_count": 79,
   "metadata": {},
   "outputs": [],
   "source": [
    "for usr_post in all_posts_bin_clf:\n",
    "    if(len(usr_post)<2):\n",
    "        std_risk = 0   \n",
    "    else:\n",
    "        std_risk = stdev(usr_post)\n",
    "        \n",
    "    max_risk = max(usr_post)\n",
    "    avg_risk = mean(usr_post)\n",
    "    min_risk = min(usr_post)\n",
    "    \n",
    "        \n",
    "    max_prob.append(max_risk)\n",
    "    avg_prob.append(avg_risk)\n",
    "    std_prob.append(std_risk)\n",
    "    min_prob.append(min_risk)\n",
    "    post_count.append(len(usr_post))"
   ]
  },
  {
   "cell_type": "code",
   "execution_count": 80,
   "metadata": {},
   "outputs": [],
   "source": [
    "df_from_json['data'] = all_posts"
   ]
  },
  {
   "cell_type": "code",
   "execution_count": 81,
   "metadata": {},
   "outputs": [
    {
     "data": {
      "text/html": [
       "<div>\n",
       "<style scoped>\n",
       "    .dataframe tbody tr th:only-of-type {\n",
       "        vertical-align: middle;\n",
       "    }\n",
       "\n",
       "    .dataframe tbody tr th {\n",
       "        vertical-align: top;\n",
       "    }\n",
       "\n",
       "    .dataframe thead th {\n",
       "        text-align: right;\n",
       "    }\n",
       "</style>\n",
       "<table border=\"1\" class=\"dataframe\">\n",
       "  <thead>\n",
       "    <tr style=\"text-align: right;\">\n",
       "      <th></th>\n",
       "      <th>label</th>\n",
       "      <th>posts</th>\n",
       "      <th>user_id</th>\n",
       "      <th>data</th>\n",
       "    </tr>\n",
       "  </thead>\n",
       "  <tbody>\n",
       "    <tr>\n",
       "      <th>0</th>\n",
       "      <td>c</td>\n",
       "      <td>[[9yng4, 1256743121, SuicideWatch, A survivors...</td>\n",
       "      <td>10869</td>\n",
       "      <td>A survivors story A survivors story Truthfull...</td>\n",
       "    </tr>\n",
       "    <tr>\n",
       "      <th>1</th>\n",
       "      <td>d</td>\n",
       "      <td>[[jvrrt, 1314412249, SuicideWatch, I don't thi...</td>\n",
       "      <td>33604</td>\n",
       "      <td>I don't think I can take anymore. [Long] I do...</td>\n",
       "    </tr>\n",
       "    <tr>\n",
       "      <th>2</th>\n",
       "      <td>b</td>\n",
       "      <td>[[35z7ac, 1431631007, SuicideWatch, When does ...</td>\n",
       "      <td>21485</td>\n",
       "      <td>When does it become okay? When does it become...</td>\n",
       "    </tr>\n",
       "    <tr>\n",
       "      <th>3</th>\n",
       "      <td>a</td>\n",
       "      <td>[[22ie72, 1396959876, SuicideWatch, /r/gaming ...</td>\n",
       "      <td>2103</td>\n",
       "      <td>/r/gaming sent me here, help for a digital fr...</td>\n",
       "    </tr>\n",
       "    <tr>\n",
       "      <th>4</th>\n",
       "      <td>a</td>\n",
       "      <td>[[20vl2e, 1395289098, SuicideWatch, My friend ...</td>\n",
       "      <td>48651</td>\n",
       "      <td>My friend and roommate told me he tried to co...</td>\n",
       "    </tr>\n",
       "  </tbody>\n",
       "</table>\n",
       "</div>"
      ],
      "text/plain": [
       "  label                                              posts  user_id  \\\n",
       "0     c  [[9yng4, 1256743121, SuicideWatch, A survivors...    10869   \n",
       "1     d  [[jvrrt, 1314412249, SuicideWatch, I don't thi...    33604   \n",
       "2     b  [[35z7ac, 1431631007, SuicideWatch, When does ...    21485   \n",
       "3     a  [[22ie72, 1396959876, SuicideWatch, /r/gaming ...     2103   \n",
       "4     a  [[20vl2e, 1395289098, SuicideWatch, My friend ...    48651   \n",
       "\n",
       "                                                data  \n",
       "0   A survivors story A survivors story Truthfull...  \n",
       "1   I don't think I can take anymore. [Long] I do...  \n",
       "2   When does it become okay? When does it become...  \n",
       "3   /r/gaming sent me here, help for a digital fr...  \n",
       "4   My friend and roommate told me he tried to co...  "
      ]
     },
     "execution_count": 81,
     "metadata": {},
     "output_type": "execute_result"
    }
   ],
   "source": [
    "df_from_json.head()"
   ]
  },
  {
   "cell_type": "code",
   "execution_count": 82,
   "metadata": {},
   "outputs": [],
   "source": [
    "test = list(df_from_json['data'])"
   ]
  },
  {
   "cell_type": "code",
   "execution_count": 83,
   "metadata": {},
   "outputs": [
    {
     "data": {
      "text/plain": [
       "' When does it become okay? When does it become okay? My life is pretty shit right now. When does it become okay to say yes to Suicide?'"
      ]
     },
     "execution_count": 83,
     "metadata": {},
     "output_type": "execute_result"
    }
   ],
   "source": [
    "test[2]"
   ]
  },
  {
   "cell_type": "code",
   "execution_count": 84,
   "metadata": {},
   "outputs": [],
   "source": [
    "lr_probs = []\n",
    "svm_probs = []"
   ]
  },
  {
   "cell_type": "code",
   "execution_count": 85,
   "metadata": {},
   "outputs": [],
   "source": [
    "for t in test:\n",
    "\n",
    "    lr_p = b000_model.predict_proba([t])\n",
    "    lr_probs.append(lr_p[0].tolist())\n",
    "  \n",
    "    \n",
    "    svm_p = b0001_model.decision_function([t])\n",
    "    svm_probs.append(svm_p[0].tolist())"
   ]
  },
  {
   "cell_type": "code",
   "execution_count": 86,
   "metadata": {},
   "outputs": [
    {
     "data": {
      "text/plain": [
       "[0.0005837254557821553,\n",
       " -0.00022896852429215794,\n",
       " -0.0005078443157329857,\n",
       " 0.0001530873842404693]"
      ]
     },
     "execution_count": 86,
     "metadata": {},
     "output_type": "execute_result"
    }
   ],
   "source": [
    "svm_probs[0]"
   ]
  },
  {
   "cell_type": "code",
   "execution_count": 87,
   "metadata": {},
   "outputs": [],
   "source": [
    "lr_headers = ['a_prob','b_prob','c_prob','d_prob']\n",
    "svm_headers = ['svm_a_prob','svm_b_prob','svm_c_prob','svm_d_prob']\n",
    "df_lr = pd.DataFrame(lr_probs, columns=lr_headers)\n",
    "df_svm = pd.DataFrame(svm_probs, columns=svm_headers)\n",
    "\n"
   ]
  },
  {
   "cell_type": "markdown",
   "metadata": {},
   "source": [
    "# Concatenate LR probs with SVM probs"
   ]
  },
  {
   "cell_type": "code",
   "execution_count": 88,
   "metadata": {},
   "outputs": [],
   "source": [
    "df_features = pd.concat([df_lr,df_svm],axis=1)"
   ]
  },
  {
   "cell_type": "markdown",
   "metadata": {},
   "source": [
    "# Include risk probs from annotated model"
   ]
  },
  {
   "cell_type": "code",
   "execution_count": 89,
   "metadata": {},
   "outputs": [],
   "source": [
    "df_features['max_risk'] = max_prob\n",
    "df_features['avg_risk'] = avg_prob\n",
    "df_features['std_risk'] = std_prob"
   ]
  },
  {
   "cell_type": "code",
   "execution_count": null,
   "metadata": {},
   "outputs": [],
   "source": []
  },
  {
   "cell_type": "code",
   "execution_count": null,
   "metadata": {},
   "outputs": [],
   "source": []
  },
  {
   "cell_type": "code",
   "execution_count": null,
   "metadata": {},
   "outputs": [],
   "source": []
  },
  {
   "cell_type": "code",
   "execution_count": null,
   "metadata": {},
   "outputs": [],
   "source": [
    "\n"
   ]
  },
  {
   "cell_type": "markdown",
   "metadata": {},
   "source": [
    "# Include Emotion features"
   ]
  },
  {
   "cell_type": "code",
   "execution_count": 90,
   "metadata": {},
   "outputs": [
    {
     "name": "stdout",
     "output_type": "stream",
     "text": [
      "Tokenizing using dictionary from /home/semere/Desktop/CLpsych/torchMojimaster/model/vocabulary.json\n"
     ]
    },
    {
     "data": {
      "application/vnd.jupyter.widget-view+json": {
       "model_id": "c2119a7be1b64cbe8415fc4c25d6bf8c",
       "version_major": 2,
       "version_minor": 0
      },
      "text/plain": [
       "HBox(children=(IntProgress(value=0, max=99), HTML(value='')))"
      ]
     },
     "metadata": {},
     "output_type": "display_data"
    },
    {
     "name": "stdout",
     "output_type": "stream",
     "text": [
      "\n",
      "[[0.00620417 0.01943046 0.00975873 0.01228339 0.00276523 0.00888439\n",
      "  0.00804129 0.0112751  0.00298808 0.01034908 0.02149061 0.00182241\n",
      "  0.01416089 0.00569906 0.00807531 0.01024397 0.03527231 0.00586353\n",
      "  0.00215316 0.03098154 0.03101745 0.01150388 0.01274652 0.00159728\n",
      "  0.00928039 0.03171007 0.00619064 0.01677038 0.01322093 0.01662063\n",
      "  0.0166259  0.01022906 0.01274663 0.01250942 0.01141407 0.02808545\n",
      "  0.00499765 0.01890216 0.01030899 0.01415732 0.00725454 0.00741935\n",
      "  0.14245951 0.03248494 0.00677104 0.02870697 0.01944939 0.0069179\n",
      "  0.00335613 0.00956799 0.00607118 0.01781874 0.0401227  0.01585918\n",
      "  0.0085838  0.01613444 0.01552611 0.01918738 0.02483873 0.00193355\n",
      "  0.00203777 0.00313395 0.04182546 0.00416176]]\n"
     ]
    }
   ],
   "source": [
    "t = [\"test sentence\"]\n",
    "df_emotions = deepemojisentiment.get_sentiment_matrix(data,t)"
   ]
  },
  {
   "cell_type": "code",
   "execution_count": 93,
   "metadata": {},
   "outputs": [],
   "source": [
    "df_features = pd.concat([df_features,df_emotions],axis=1)"
   ]
  },
  {
   "cell_type": "code",
   "execution_count": 94,
   "metadata": {},
   "outputs": [
    {
     "data": {
      "text/html": [
       "<div>\n",
       "<style scoped>\n",
       "    .dataframe tbody tr th:only-of-type {\n",
       "        vertical-align: middle;\n",
       "    }\n",
       "\n",
       "    .dataframe tbody tr th {\n",
       "        vertical-align: top;\n",
       "    }\n",
       "\n",
       "    .dataframe thead th {\n",
       "        text-align: right;\n",
       "    }\n",
       "</style>\n",
       "<table border=\"1\" class=\"dataframe\">\n",
       "  <thead>\n",
       "    <tr style=\"text-align: right;\">\n",
       "      <th></th>\n",
       "      <th>a_prob</th>\n",
       "      <th>b_prob</th>\n",
       "      <th>c_prob</th>\n",
       "      <th>d_prob</th>\n",
       "      <th>svm_a_prob</th>\n",
       "      <th>svm_b_prob</th>\n",
       "      <th>svm_c_prob</th>\n",
       "      <th>svm_d_prob</th>\n",
       "      <th>max_risk</th>\n",
       "      <th>avg_risk</th>\n",
       "      <th>...</th>\n",
       "      <th>E182</th>\n",
       "      <th>E183</th>\n",
       "      <th>E184</th>\n",
       "      <th>E185</th>\n",
       "      <th>E186</th>\n",
       "      <th>E187</th>\n",
       "      <th>E188</th>\n",
       "      <th>E189</th>\n",
       "      <th>E190</th>\n",
       "      <th>E191</th>\n",
       "    </tr>\n",
       "  </thead>\n",
       "  <tbody>\n",
       "    <tr>\n",
       "      <th>0</th>\n",
       "      <td>0.282073</td>\n",
       "      <td>0.206163</td>\n",
       "      <td>0.214389</td>\n",
       "      <td>0.297374</td>\n",
       "      <td>0.000584</td>\n",
       "      <td>-0.000229</td>\n",
       "      <td>-0.000508</td>\n",
       "      <td>0.000153</td>\n",
       "      <td>0.911406</td>\n",
       "      <td>-0.704142</td>\n",
       "      <td>...</td>\n",
       "      <td>0.006319</td>\n",
       "      <td>0.020073</td>\n",
       "      <td>0.002163</td>\n",
       "      <td>0.013148</td>\n",
       "      <td>0.021429</td>\n",
       "      <td>0.011327</td>\n",
       "      <td>0.011665</td>\n",
       "      <td>0.014493</td>\n",
       "      <td>0.004749</td>\n",
       "      <td>0.019667</td>\n",
       "    </tr>\n",
       "    <tr>\n",
       "      <th>1</th>\n",
       "      <td>0.226823</td>\n",
       "      <td>0.174442</td>\n",
       "      <td>0.280987</td>\n",
       "      <td>0.317749</td>\n",
       "      <td>0.000182</td>\n",
       "      <td>-0.000241</td>\n",
       "      <td>-0.000075</td>\n",
       "      <td>0.000134</td>\n",
       "      <td>0.864240</td>\n",
       "      <td>0.864240</td>\n",
       "      <td>...</td>\n",
       "      <td>0.000000</td>\n",
       "      <td>0.000000</td>\n",
       "      <td>0.000000</td>\n",
       "      <td>0.000000</td>\n",
       "      <td>0.000000</td>\n",
       "      <td>0.000000</td>\n",
       "      <td>0.000000</td>\n",
       "      <td>0.000000</td>\n",
       "      <td>0.000000</td>\n",
       "      <td>0.000000</td>\n",
       "    </tr>\n",
       "    <tr>\n",
       "      <th>2</th>\n",
       "      <td>0.299986</td>\n",
       "      <td>0.181824</td>\n",
       "      <td>0.282004</td>\n",
       "      <td>0.236186</td>\n",
       "      <td>0.000485</td>\n",
       "      <td>-0.000368</td>\n",
       "      <td>0.000034</td>\n",
       "      <td>-0.000150</td>\n",
       "      <td>0.257642</td>\n",
       "      <td>0.257642</td>\n",
       "      <td>...</td>\n",
       "      <td>0.000000</td>\n",
       "      <td>0.000000</td>\n",
       "      <td>0.000000</td>\n",
       "      <td>0.000000</td>\n",
       "      <td>0.000000</td>\n",
       "      <td>0.000000</td>\n",
       "      <td>0.000000</td>\n",
       "      <td>0.000000</td>\n",
       "      <td>0.000000</td>\n",
       "      <td>0.000000</td>\n",
       "    </tr>\n",
       "    <tr>\n",
       "      <th>3</th>\n",
       "      <td>0.435448</td>\n",
       "      <td>0.140453</td>\n",
       "      <td>0.222872</td>\n",
       "      <td>0.201227</td>\n",
       "      <td>0.001242</td>\n",
       "      <td>-0.000621</td>\n",
       "      <td>-0.000311</td>\n",
       "      <td>-0.000310</td>\n",
       "      <td>-0.572106</td>\n",
       "      <td>-0.572106</td>\n",
       "      <td>...</td>\n",
       "      <td>0.000000</td>\n",
       "      <td>0.000000</td>\n",
       "      <td>0.000000</td>\n",
       "      <td>0.000000</td>\n",
       "      <td>0.000000</td>\n",
       "      <td>0.000000</td>\n",
       "      <td>0.000000</td>\n",
       "      <td>0.000000</td>\n",
       "      <td>0.000000</td>\n",
       "      <td>0.000000</td>\n",
       "    </tr>\n",
       "    <tr>\n",
       "      <th>4</th>\n",
       "      <td>0.274052</td>\n",
       "      <td>0.168468</td>\n",
       "      <td>0.228554</td>\n",
       "      <td>0.328926</td>\n",
       "      <td>0.000405</td>\n",
       "      <td>-0.000394</td>\n",
       "      <td>-0.000258</td>\n",
       "      <td>0.000246</td>\n",
       "      <td>0.288580</td>\n",
       "      <td>0.288580</td>\n",
       "      <td>...</td>\n",
       "      <td>0.000000</td>\n",
       "      <td>0.000000</td>\n",
       "      <td>0.000000</td>\n",
       "      <td>0.000000</td>\n",
       "      <td>0.000000</td>\n",
       "      <td>0.000000</td>\n",
       "      <td>0.000000</td>\n",
       "      <td>0.000000</td>\n",
       "      <td>0.000000</td>\n",
       "      <td>0.000000</td>\n",
       "    </tr>\n",
       "  </tbody>\n",
       "</table>\n",
       "<p>5 rows × 395 columns</p>\n",
       "</div>"
      ],
      "text/plain": [
       "     a_prob    b_prob    c_prob    d_prob  svm_a_prob  svm_b_prob  svm_c_prob  \\\n",
       "0  0.282073  0.206163  0.214389  0.297374    0.000584   -0.000229   -0.000508   \n",
       "1  0.226823  0.174442  0.280987  0.317749    0.000182   -0.000241   -0.000075   \n",
       "2  0.299986  0.181824  0.282004  0.236186    0.000485   -0.000368    0.000034   \n",
       "3  0.435448  0.140453  0.222872  0.201227    0.001242   -0.000621   -0.000311   \n",
       "4  0.274052  0.168468  0.228554  0.328926    0.000405   -0.000394   -0.000258   \n",
       "\n",
       "   svm_d_prob  max_risk  avg_risk    ...         E182      E183      E184  \\\n",
       "0    0.000153  0.911406 -0.704142    ...     0.006319  0.020073  0.002163   \n",
       "1    0.000134  0.864240  0.864240    ...     0.000000  0.000000  0.000000   \n",
       "2   -0.000150  0.257642  0.257642    ...     0.000000  0.000000  0.000000   \n",
       "3   -0.000310 -0.572106 -0.572106    ...     0.000000  0.000000  0.000000   \n",
       "4    0.000246  0.288580  0.288580    ...     0.000000  0.000000  0.000000   \n",
       "\n",
       "       E185      E186      E187      E188      E189      E190      E191  \n",
       "0  0.013148  0.021429  0.011327  0.011665  0.014493  0.004749  0.019667  \n",
       "1  0.000000  0.000000  0.000000  0.000000  0.000000  0.000000  0.000000  \n",
       "2  0.000000  0.000000  0.000000  0.000000  0.000000  0.000000  0.000000  \n",
       "3  0.000000  0.000000  0.000000  0.000000  0.000000  0.000000  0.000000  \n",
       "4  0.000000  0.000000  0.000000  0.000000  0.000000  0.000000  0.000000  \n",
       "\n",
       "[5 rows x 395 columns]"
      ]
     },
     "execution_count": 94,
     "metadata": {},
     "output_type": "execute_result"
    }
   ],
   "source": [
    "df_features.head()"
   ]
  },
  {
   "cell_type": "code",
   "execution_count": 72,
   "metadata": {},
   "outputs": [
    {
     "data": {
      "text/plain": [
       "Index(['a_prob', 'b_prob', 'c_prob', 'd_prob', 'svm_a_prob', 'svm_b_prob',\n",
       "       'svm_c_prob', 'svm_d_prob', 'max_risk', 'avg_risk',\n",
       "       ...\n",
       "       'E182', 'E183', 'E184', 'E185', 'E186', 'E187', 'E188', 'E189', 'E190',\n",
       "       'E191'],\n",
       "      dtype='object', length=203)"
      ]
     },
     "execution_count": 72,
     "metadata": {},
     "output_type": "execute_result"
    }
   ],
   "source": [
    "#df_features.to_csv(\"ensemble_validation.csv\", encoding='utf-8', index=False)\n",
    "features = df_features.columns[0:]\n",
    "from sklearn.preprocessing import StandardScaler\n",
    "scaler = StandardScaler()\n",
    "df_features[features] = scaler.fit_transform(df_features[features])\n",
    "features"
   ]
  },
  {
   "cell_type": "code",
   "execution_count": 71,
   "metadata": {},
   "outputs": [
    {
     "data": {
      "text/html": [
       "<div>\n",
       "<style scoped>\n",
       "    .dataframe tbody tr th:only-of-type {\n",
       "        vertical-align: middle;\n",
       "    }\n",
       "\n",
       "    .dataframe tbody tr th {\n",
       "        vertical-align: top;\n",
       "    }\n",
       "\n",
       "    .dataframe thead th {\n",
       "        text-align: right;\n",
       "    }\n",
       "</style>\n",
       "<table border=\"1\" class=\"dataframe\">\n",
       "  <thead>\n",
       "    <tr style=\"text-align: right;\">\n",
       "      <th></th>\n",
       "      <th>a_prob</th>\n",
       "      <th>b_prob</th>\n",
       "      <th>c_prob</th>\n",
       "      <th>d_prob</th>\n",
       "      <th>svm_a_prob</th>\n",
       "      <th>svm_b_prob</th>\n",
       "      <th>svm_c_prob</th>\n",
       "      <th>svm_d_prob</th>\n",
       "      <th>max_risk</th>\n",
       "      <th>avg_risk</th>\n",
       "      <th>...</th>\n",
       "      <th>E182</th>\n",
       "      <th>E183</th>\n",
       "      <th>E184</th>\n",
       "      <th>E185</th>\n",
       "      <th>E186</th>\n",
       "      <th>E187</th>\n",
       "      <th>E188</th>\n",
       "      <th>E189</th>\n",
       "      <th>E190</th>\n",
       "      <th>E191</th>\n",
       "    </tr>\n",
       "  </thead>\n",
       "  <tbody>\n",
       "    <tr>\n",
       "      <th>0</th>\n",
       "      <td>0.433858</td>\n",
       "      <td>0.527313</td>\n",
       "      <td>-1.246793</td>\n",
       "      <td>-0.050134</td>\n",
       "      <td>0.870832</td>\n",
       "      <td>-0.190849</td>\n",
       "      <td>-1.789796</td>\n",
       "      <td>-0.004820</td>\n",
       "      <td>0.269066</td>\n",
       "      <td>-1.343831</td>\n",
       "      <td>...</td>\n",
       "      <td>2.248132</td>\n",
       "      <td>2.443843</td>\n",
       "      <td>-0.032526</td>\n",
       "      <td>3.106197</td>\n",
       "      <td>5.294167</td>\n",
       "      <td>2.268735</td>\n",
       "      <td>2.040027</td>\n",
       "      <td>3.399076</td>\n",
       "      <td>0.759940</td>\n",
       "      <td>2.069808</td>\n",
       "    </tr>\n",
       "    <tr>\n",
       "      <th>1</th>\n",
       "      <td>-0.203238</td>\n",
       "      <td>-0.476620</td>\n",
       "      <td>0.394425</td>\n",
       "      <td>0.226346</td>\n",
       "      <td>0.121126</td>\n",
       "      <td>-0.233735</td>\n",
       "      <td>0.088737</td>\n",
       "      <td>-0.055038</td>\n",
       "      <td>0.213961</td>\n",
       "      <td>0.454241</td>\n",
       "      <td>...</td>\n",
       "      <td>-0.424162</td>\n",
       "      <td>-0.463499</td>\n",
       "      <td>-0.406786</td>\n",
       "      <td>-0.371234</td>\n",
       "      <td>-0.372811</td>\n",
       "      <td>-0.376438</td>\n",
       "      <td>-0.326034</td>\n",
       "      <td>-0.420380</td>\n",
       "      <td>-0.451419</td>\n",
       "      <td>-0.291969</td>\n",
       "    </tr>\n",
       "    <tr>\n",
       "      <th>2</th>\n",
       "      <td>0.640407</td>\n",
       "      <td>-0.242973</td>\n",
       "      <td>0.419491</td>\n",
       "      <td>-0.880437</td>\n",
       "      <td>0.686997</td>\n",
       "      <td>-0.698236</td>\n",
       "      <td>0.559331</td>\n",
       "      <td>-0.795235</td>\n",
       "      <td>-0.494740</td>\n",
       "      <td>-0.241194</td>\n",
       "      <td>...</td>\n",
       "      <td>-0.424162</td>\n",
       "      <td>-0.463499</td>\n",
       "      <td>-0.406786</td>\n",
       "      <td>-0.371234</td>\n",
       "      <td>-0.372811</td>\n",
       "      <td>-0.376438</td>\n",
       "      <td>-0.326034</td>\n",
       "      <td>-0.420380</td>\n",
       "      <td>-0.451419</td>\n",
       "      <td>-0.291969</td>\n",
       "    </tr>\n",
       "    <tr>\n",
       "      <th>3</th>\n",
       "      <td>2.202418</td>\n",
       "      <td>-1.552291</td>\n",
       "      <td>-1.037734</td>\n",
       "      <td>-1.354821</td>\n",
       "      <td>2.098366</td>\n",
       "      <td>-1.616814</td>\n",
       "      <td>-0.934890</td>\n",
       "      <td>-1.211232</td>\n",
       "      <td>-1.464152</td>\n",
       "      <td>-1.192459</td>\n",
       "      <td>...</td>\n",
       "      <td>-0.424162</td>\n",
       "      <td>-0.463499</td>\n",
       "      <td>-0.406786</td>\n",
       "      <td>-0.371234</td>\n",
       "      <td>-0.372811</td>\n",
       "      <td>-0.376438</td>\n",
       "      <td>-0.326034</td>\n",
       "      <td>-0.420380</td>\n",
       "      <td>-0.451419</td>\n",
       "      <td>-0.291969</td>\n",
       "    </tr>\n",
       "    <tr>\n",
       "      <th>4</th>\n",
       "      <td>0.341364</td>\n",
       "      <td>-0.665675</td>\n",
       "      <td>-0.897730</td>\n",
       "      <td>0.378023</td>\n",
       "      <td>0.537503</td>\n",
       "      <td>-0.790207</td>\n",
       "      <td>-0.704870</td>\n",
       "      <td>0.238553</td>\n",
       "      <td>-0.458594</td>\n",
       "      <td>-0.205724</td>\n",
       "      <td>...</td>\n",
       "      <td>-0.424162</td>\n",
       "      <td>-0.463499</td>\n",
       "      <td>-0.406786</td>\n",
       "      <td>-0.371234</td>\n",
       "      <td>-0.372811</td>\n",
       "      <td>-0.376438</td>\n",
       "      <td>-0.326034</td>\n",
       "      <td>-0.420380</td>\n",
       "      <td>-0.451419</td>\n",
       "      <td>-0.291969</td>\n",
       "    </tr>\n",
       "  </tbody>\n",
       "</table>\n",
       "<p>5 rows × 203 columns</p>\n",
       "</div>"
      ],
      "text/plain": [
       "     a_prob    b_prob    c_prob    d_prob  svm_a_prob  svm_b_prob  svm_c_prob  \\\n",
       "0  0.433858  0.527313 -1.246793 -0.050134    0.870832   -0.190849   -1.789796   \n",
       "1 -0.203238 -0.476620  0.394425  0.226346    0.121126   -0.233735    0.088737   \n",
       "2  0.640407 -0.242973  0.419491 -0.880437    0.686997   -0.698236    0.559331   \n",
       "3  2.202418 -1.552291 -1.037734 -1.354821    2.098366   -1.616814   -0.934890   \n",
       "4  0.341364 -0.665675 -0.897730  0.378023    0.537503   -0.790207   -0.704870   \n",
       "\n",
       "   svm_d_prob  max_risk  avg_risk    ...         E182      E183      E184  \\\n",
       "0   -0.004820  0.269066 -1.343831    ...     2.248132  2.443843 -0.032526   \n",
       "1   -0.055038  0.213961  0.454241    ...    -0.424162 -0.463499 -0.406786   \n",
       "2   -0.795235 -0.494740 -0.241194    ...    -0.424162 -0.463499 -0.406786   \n",
       "3   -1.211232 -1.464152 -1.192459    ...    -0.424162 -0.463499 -0.406786   \n",
       "4    0.238553 -0.458594 -0.205724    ...    -0.424162 -0.463499 -0.406786   \n",
       "\n",
       "       E185      E186      E187      E188      E189      E190      E191  \n",
       "0  3.106197  5.294167  2.268735  2.040027  3.399076  0.759940  2.069808  \n",
       "1 -0.371234 -0.372811 -0.376438 -0.326034 -0.420380 -0.451419 -0.291969  \n",
       "2 -0.371234 -0.372811 -0.376438 -0.326034 -0.420380 -0.451419 -0.291969  \n",
       "3 -0.371234 -0.372811 -0.376438 -0.326034 -0.420380 -0.451419 -0.291969  \n",
       "4 -0.371234 -0.372811 -0.376438 -0.326034 -0.420380 -0.451419 -0.291969  \n",
       "\n",
       "[5 rows x 203 columns]"
      ]
     },
     "execution_count": 71,
     "metadata": {},
     "output_type": "execute_result"
    }
   ],
   "source": [
    "df_features.head()"
   ]
  },
  {
   "cell_type": "code",
   "execution_count": 386,
   "metadata": {},
   "outputs": [
    {
     "name": "stdout",
     "output_type": "stream",
     "text": [
      "['c', 'd', 'b', 'a', 'a', 'd', 'a', 'a', 'b', 'c', 'd', 'a', 'c', 'd', 'd', 'd', 'd', 'd', 'd', 'd', 'b', 'd', 'd', 'c', 'd', 'c', 'a', 'a', 'a', 'c', 'b', 'd', 'd', 'a', 'a', 'd', 'd', 'd', 'c', 'a', 'c', 'b', 'a', 'a', 'a', 'd', 'd', 'a', 'd', 'd', 'd', 'c', 'd', 'b', 'd', 'a', 'd', 'a', 'd', 'c', 'd', 'a', 'c', 'a', 'd', 'd', 'a', 'a', 'd', 'a', 'd', 'd', 'b', 'b', 'b', 'c', 'b', 'd', 'd', 'd', 'd', 'd', 'c', 'a', 'c', 'd', 'c', 'a', 'c', 'a', 'a', 'c', 'a', 'b', 'd', 'a', 'a', 'd', 'd']\n"
     ]
    }
   ],
   "source": [
    "le = preprocessing.LabelEncoder()\n",
    "test_labels = list(df_from_json['label'])\n",
    "\n",
    "print(test_labels)\n",
    "\n",
    "test_labels=le.fit_transform(test_labels)\n"
   ]
  },
  {
   "cell_type": "code",
   "execution_count": 387,
   "metadata": {},
   "outputs": [
    {
     "data": {
      "text/plain": [
       "array([2, 3, 1, 0, 0, 3, 0, 0, 1, 2, 3, 0, 2, 3, 3, 3, 3, 3, 3, 3, 1, 3,\n",
       "       3, 2, 3, 2, 0, 0, 0, 2, 1, 3, 3, 0, 0, 3, 3, 3, 2, 0, 2, 1, 0, 0,\n",
       "       0, 3, 3, 0, 3, 3, 3, 2, 3, 1, 3, 0, 3, 0, 3, 2, 3, 0, 2, 0, 3, 3,\n",
       "       0, 0, 3, 0, 3, 3, 1, 1, 1, 2, 1, 3, 3, 3, 3, 3, 2, 0, 2, 3, 2, 0,\n",
       "       2, 0, 0, 2, 0, 1, 3, 0, 0, 3, 3])"
      ]
     },
     "execution_count": 387,
     "metadata": {},
     "output_type": "execute_result"
    }
   ],
   "source": [
    "test_labels"
   ]
  },
  {
   "cell_type": "code",
   "execution_count": 388,
   "metadata": {},
   "outputs": [
    {
     "name": "stdout",
     "output_type": "stream",
     "text": [
      "              precision    recall  f1-score   support\n",
      "\n",
      "           0       0.00      0.00      0.00        29\n",
      "           1       0.10      0.73      0.18        11\n",
      "           2       0.11      0.12      0.11        17\n",
      "           3       0.50      0.02      0.05        42\n",
      "\n",
      "   micro avg       0.11      0.11      0.11        99\n",
      "   macro avg       0.18      0.22      0.08        99\n",
      "weighted avg       0.24      0.11      0.06        99\n",
      "\n",
      "Accuracy: 0.1111111111111111\n"
     ]
    },
    {
     "data": {
      "text/plain": [
       "array([1, 1, 1, 2, 1, 1, 1, 1, 1, 0, 1, 2, 1, 1, 1, 1, 1, 1, 1, 1, 1, 1,\n",
       "       1, 3, 1, 1, 1, 1, 2, 1, 1, 1, 1, 1, 2, 1, 1, 1, 2, 2, 1, 1, 1, 1,\n",
       "       2, 1, 1, 1, 1, 1, 1, 1, 1, 2, 1, 2, 1, 2, 1, 1, 1, 1, 1, 2, 1, 3,\n",
       "       2, 1, 1, 1, 1, 1, 1, 1, 2, 1, 2, 1, 1, 1, 1, 1, 1, 1, 1, 1, 1, 2,\n",
       "       1, 1, 2, 2, 2, 1, 1, 2, 1, 1, 1])"
      ]
     },
     "execution_count": 388,
     "metadata": {},
     "output_type": "execute_result"
    }
   ],
   "source": [
    "clf = e000_model\n",
    "predicted=clf.predict(df_features)\n",
    "print(classification_report(test_labels, predicted))\n",
    "print (\"Accuracy: {}\".format(accuracy_score(test_labels, predicted)))\n",
    "predicted"
   ]
  },
  {
   "cell_type": "code",
   "execution_count": null,
   "metadata": {},
   "outputs": [],
   "source": []
  },
  {
   "cell_type": "code",
   "execution_count": null,
   "metadata": {},
   "outputs": [],
   "source": []
  },
  {
   "cell_type": "code",
   "execution_count": null,
   "metadata": {},
   "outputs": [],
   "source": []
  },
  {
   "cell_type": "code",
   "execution_count": null,
   "metadata": {},
   "outputs": [],
   "source": []
  }
 ],
 "metadata": {
  "kernelspec": {
   "display_name": "Python 3",
   "language": "python",
   "name": "python3"
  },
  "language_info": {
   "codemirror_mode": {
    "name": "ipython",
    "version": 3
   },
   "file_extension": ".py",
   "mimetype": "text/x-python",
   "name": "python",
   "nbconvert_exporter": "python",
   "pygments_lexer": "ipython3",
   "version": "3.7.1"
  }
 },
 "nbformat": 4,
 "nbformat_minor": 2
}
