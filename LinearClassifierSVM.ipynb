{
 "cells": [
  {
   "cell_type": "code",
   "execution_count": 2,
   "metadata": {},
   "outputs": [],
   "source": [
    "import pandas as pd\n",
    "import random\n",
    "from sklearn.model_selection import train_test_split\n",
    "import matplotlib.pyplot as plt\n",
    "import numpy as np\n",
    "from sklearn import preprocessing\n",
    "from scipy.sparse import hstack,vstack\n",
    "from sklearn.linear_model import LogisticRegression\n",
    "import taskALoader as t_a\n",
    "from sklearn.pipeline import Pipeline\n",
    "from sklearn.feature_extraction.text import TfidfVectorizer\n",
    "from sklearn.svm import LinearSVC,SVC\n",
    "from sklearn.utils import class_weight\n",
    "from sklearn.metrics import classification_report,accuracy_score\n",
    "from sklearn import svm\n",
    "from sklearn.model_selection import GridSearchCV,ShuffleSplit\n",
    "from sklearn.model_selection import PredefinedSplit\n",
    "#class_weights = class_weight.compute_class_weight('balanced',np.unique(y_train),y_train)\n",
    "from langdetect import detect "
   ]
  },
  {
   "cell_type": "code",
   "execution_count": 3,
   "metadata": {},
   "outputs": [
    {
     "name": "stdout",
     "output_type": "stream",
     "text": [
      "['a' 'b' 'c' 'd']\n"
     ]
    }
   ],
   "source": [
    "df = pd.read_csv(\"task_A_dataset.csv\").fillna(' ')\n",
    "data = t_a.json_creator(df)\n",
    "X,y = t_a.get_data(data,post_title_weight=True)\n",
    "\n",
    "\n",
    "\n",
    "X_train_all, X_test, y_train_all, y_test = train_test_split(X, y, test_size=0.2, random_state=1)\n",
    "\n",
    "X_train, X_val, y_train, y_val  = train_test_split(X_train_all, y_train_all, test_size=0.25, random_state=1)"
   ]
  },
  {
   "cell_type": "code",
   "execution_count": null,
   "metadata": {},
   "outputs": [],
   "source": []
  },
  {
   "cell_type": "code",
   "execution_count": null,
   "metadata": {},
   "outputs": [],
   "source": []
  },
  {
   "cell_type": "code",
   "execution_count": 4,
   "metadata": {},
   "outputs": [
    {
     "name": "stdout",
     "output_type": "stream",
     "text": [
      "{0: 31, 1: 8, 2: 21, 3: 40}\n",
      "31.0\n",
      "8.0\n",
      "21.0\n",
      "40.0\n"
     ]
    },
    {
     "data": {
      "image/png": "[encoded data removed]",
      "text/plain": [
       "<Figure size 432x288 with 1 Axes>"
      ]
     },
     "metadata": {
      "needs_background": "light"
     },
     "output_type": "display_data"
    }
   ],
   "source": [
    "t_a.display_class_dis(y_test)"
   ]
  },
  {
   "cell_type": "code",
   "execution_count": 6,
   "metadata": {},
   "outputs": [],
   "source": [
    "def get_predefined_split(features_train, features_val, target_train, target_val):\n",
    "    always_train = np.empty((target_train.shape[0]), dtype=np.int32)\n",
    "    #print(target_train.shape[0])\n",
    "    always_train[:] = -1\n",
    "    always_validate = np.empty((target_val.shape[0]), dtype=np.int32)\n",
    "    always_validate[:] = 0\n",
    "    pred_split_indices = np.concatenate((always_train, always_validate))\n",
    "    curr_target_train = np.concatenate((target_train, target_val))\n",
    "    #curr_features_train = vstack((features_train, features_val))\n",
    "    curr_features_train = np.concatenate((features_train, features_val))\n",
    "   \n",
    "    ps = PredefinedSplit(test_fold=pred_split_indices)\n",
    "\n",
    "    return curr_features_train, curr_target_train, ps\n",
    "\n",
    "\n"
   ]
  },
  {
   "cell_type": "code",
   "execution_count": 7,
   "metadata": {},
   "outputs": [
    {
     "name": "stdout",
     "output_type": "stream",
     "text": [
      "PredefinedSplit(test_fold=array([-1, -1, ...,  0,  0]))\n"
     ]
    }
   ],
   "source": [
    "\n",
    "X,y,ps = get_predefined_split (X_train,X_val,y_train,y_val)\n"
   ]
  },
  {
   "cell_type": "code",
   "execution_count": 8,
   "metadata": {},
   "outputs": [],
   "source": [
    "corpus_df = pd.read_csv(\"clpsych19_training_data/shared_task_posts.csv\").fillna(' ')\n",
    "p_title = corpus_df['post_title']\n",
    "p_body = corpus_df['post_body']\n",
    "corpus_text = pd.concat([p_title,p_body]) "
   ]
  },
  {
   "cell_type": "code",
   "execution_count": 9,
   "metadata": {},
   "outputs": [
    {
     "data": {
      "text/plain": [
       "'\\nty = TfidfVectorizer()\\nty.fit(corpus_text)\\n'"
      ]
     },
     "execution_count": 9,
     "metadata": {},
     "output_type": "execute_result"
    }
   ],
   "source": []
  },
  {
   "cell_type": "code",
   "execution_count": 10,
   "metadata": {},
   "outputs": [
    {
     "ename": "NameError",
     "evalue": "name 'ty' is not defined",
     "output_type": "error",
     "traceback": [
      "\u001b[0;31m---------------------------------------------------------------------------\u001b[0m",
      "\u001b[0;31mNameError\u001b[0m                                 Traceback (most recent call last)",
      "\u001b[0;32m<ipython-input-10-e53db9fffd5a>\u001b[0m in \u001b[0;36m<module>\u001b[0;34m\u001b[0m\n\u001b[0;32m----> 1\u001b[0;31m \u001b[0mlen\u001b[0m\u001b[0;34m(\u001b[0m\u001b[0mty\u001b[0m\u001b[0;34m.\u001b[0m\u001b[0mvocabulary_\u001b[0m\u001b[0;34m)\u001b[0m\u001b[0;34m\u001b[0m\u001b[0;34m\u001b[0m\u001b[0m\n\u001b[0m",
      "\u001b[0;31mNameError\u001b[0m: name 'ty' is not defined"
     ]
    }
   ],
   "source": []
  },
  {
   "cell_type": "code",
   "execution_count": 11,
   "metadata": {},
   "outputs": [],
   "source": [
    " \n",
    "class TfidfVectorizerWrapper(TfidfVectorizer):\n",
    "    \n",
    "    def fit(self,x,y=None, **fit_params):\n",
    "        x = corpus_text\n",
    "        return super(TfidfVectorizerWrapper, self).fit(x, y, **fit_params)\n",
    "        \n",
    "    def transform(self, x, y=None, **fit_params):\n",
    "        #x = [content.split('\\t')[0] for content in x]  # filtering the input\n",
    "        return super(TfidfVectorizerWrapper, self).transform(x, y, **fit_params)       \n",
    "        \n"
   ]
  },
  {
   "cell_type": "code",
   "execution_count": null,
   "metadata": {},
   "outputs": [],
   "source": []
  },
  {
   "cell_type": "code",
   "execution_count": 12,
   "metadata": {},
   "outputs": [],
   "source": [
    "def svc_param_selection(X_train,X_val,y_train,y_val):\n",
    "    \n",
    "\n",
    "    \n",
    "    linear_pipeline = Pipeline(\n",
    "        [\n",
    "            ('tfidf',\n",
    "             TfidfVectorizerWrapper(decode_error='ignore', use_idf=True, ngram_range=(1, 2), lowercase=True,\n",
    "                             stop_words='english',\n",
    "                             analyzer='word', max_features=40000)),\n",
    "            ('classifier', LinearSVC(class_weight='balanced',max_iter=2000))]\n",
    "    )\n",
    "\n",
    "    \n",
    "    \n",
    "    ngram_range=[(1, 2), (1, 3), (1, 4), (1, 5)]\n",
    "    max_features=[100000, 200000, 300000, 400000, 500000]\n",
    "    #max_features = [500000]\n",
    "    min_df=[1, 2, 3]\n",
    "    \n",
    "    \n",
    "    \n",
    "    X,y,ps = get_predefined_split (X_train,X_val,y_train,y_val)\n",
    "    \n",
    "    Cs = [0.001, 0.01, 0.1, 1, 10]\n",
    "    Ls = ['l1','l2']\n",
    "    multi_class = ['ovr','crammer_singer']\n",
    "    #gammas = [0.001, 0.01, 0.1, 1]\n",
    "    param_grid = {\"tfidf__ngram_range\": ngram_range,\n",
    "                  \"tfidf__use_idf\": [True],\n",
    "                  \"tfidf__max_features\": max_features,\n",
    "                  \"tfidf__min_df\": min_df,\n",
    "                  \"tfidf__sublinear_tf\": [True],\n",
    "                  \"classifier__C\": Cs,\n",
    "                  \"classifier__multi_class\":multi_class\n",
    "                             \n",
    "                 }\n",
    "    \n",
    "   \n",
    "    \n",
    "    grid_search = GridSearchCV(linear_pipeline, param_grid,cv=ps,scoring='f1_macro', refit=False)\n",
    "    \n",
    "    clf=grid_search.fit(X, y)\n",
    " \n",
    "    \n",
    "    grid_search.best_params_\n",
    "    return grid_search.best_params_,clf"
   ]
  },
  {
   "cell_type": "code",
   "execution_count": null,
   "metadata": {},
   "outputs": [
    {
     "name": "stderr",
     "output_type": "stream",
     "text": [
      "/home/semere/anaconda3/lib/python3.7/site-packages/sklearn/metrics/classification.py:1143: UndefinedMetricWarning: F-score is ill-defined and being set to 0.0 in labels with no predicted samples.\n",
      "  'precision', 'predicted', average, warn_for)\n"
     ]
    }
   ],
   "source": [
    "best_pars,model = svc_param_selection(X_train,X_val,y_train,y_val)"
   ]
  },
  {
   "cell_type": "code",
   "execution_count": 36,
   "metadata": {},
   "outputs": [],
   "source": [
    "def runBestSVM(train,train_labels,test,test_labels,best_pars):\n",
    "    \n",
    "    \n",
    "    c = best_pars['classifier__C']\n",
    "    multi_class = best_pars['classifier__multi_class']\n",
    "    max_features = best_pars['tfidf__max_features']\n",
    "    min_df = best_pars['tfidf__min_df']\n",
    "    ngram_range=best_pars['tfidf__ngram_range']\n",
    "    sublinear_tf = best_pars['tfidf__sublinear_tf']\n",
    "    use_idf = best_pars['tfidf__use_idf']\n",
    "    \n",
    "    linear_pipeline = Pipeline(\n",
    "        [\n",
    "            ('tfidf',\n",
    "             TfidfVectorizerWrapper(decode_error='ignore', \n",
    "                                    ngram_range=ngram_range, lowercase=True,stop_words='english',\n",
    "                             analyzer='word', max_features=max_features,min_df=min_df,\n",
    "                                    sublinear_tf=sublinear_tf,use_idf=use_idf)),\n",
    "            \n",
    "            ('classifier', LinearSVC(C=c,multi_class=multi_class,class_weight='balanced',max_iter=2000))]\n",
    "    )\n",
    "    \n",
    "    \n",
    "    \n",
    "    \n",
    "   \n",
    "    linear_pipeline.fit(train,train_labels)\n",
    "    predicted=linear_pipeline.predict(test)\n",
    "    print(classification_report(test_labels, predicted))\n",
    "    print (\"Accuracy: {}\".format(accuracy_score(test_labels, predicted)))\n",
    "    return linear_pipeline"
   ]
  },
  {
   "cell_type": "code",
   "execution_count": 38,
   "metadata": {},
   "outputs": [
    {
     "name": "stdout",
     "output_type": "stream",
     "text": [
      "              precision    recall  f1-score   support\n",
      "\n",
      "           0       0.89      0.59      0.71        29\n",
      "           1       0.20      0.09      0.13        11\n",
      "           2       0.20      0.12      0.15        17\n",
      "           3       0.57      0.88      0.69        42\n",
      "\n",
      "   micro avg       0.58      0.58      0.58        99\n",
      "   macro avg       0.47      0.42      0.42        99\n",
      "weighted avg       0.56      0.58      0.54        99\n",
      "\n",
      "Accuracy: 0.5757575757575758\n",
      "              precision    recall  f1-score   support\n",
      "\n",
      "           0       0.78      0.68      0.72        31\n",
      "           1       0.17      0.12      0.14         8\n",
      "           2       0.50      0.05      0.09        21\n",
      "           3       0.54      0.88      0.67        40\n",
      "\n",
      "   micro avg       0.58      0.58      0.58       100\n",
      "   macro avg       0.50      0.43      0.41       100\n",
      "weighted avg       0.57      0.58      0.52       100\n",
      "\n",
      "Accuracy: 0.58\n"
     ]
    },
    {
     "data": {
      "text/plain": [
       "Pipeline(memory=None,\n",
       "     steps=[('tfidf', TfidfVectorizerWrapper(analyzer='word', binary=False, decode_error='ignore',\n",
       "            dtype=<class 'numpy.float64'>, encoding='utf-8',\n",
       "            input='content', lowercase=True, max_df=1.0,\n",
       "            max_features=500000, min_df=1, ngram_range=(1, 2), norm='l2',\n",
       "            pr...0,\n",
       "     multi_class='crammer_singer', penalty='l2', random_state=None,\n",
       "     tol=0.0001, verbose=0))])"
      ]
     },
     "execution_count": 38,
     "metadata": {},
     "output_type": "execute_result"
    }
   ],
   "source": [
    "model = runBestSVM(X_train,y_train,X_val,y_val,best_pars)   #Evaluation on dev set\n",
    "runBestSVM(X_train,y_train,X_test,y_test,best_pars)         #Evaluation on test set"
   ]
  }
 ],
 "metadata": {
  "kernelspec": {
   "display_name": "Python 3",
   "language": "python",
   "name": "python3"
  },
  "language_info": {
   "codemirror_mode": {
    "name": "ipython",
    "version": 3
   },
   "file_extension": ".py",
   "mimetype": "text/x-python",
   "name": "python",
   "nbconvert_exporter": "python",
   "pygments_lexer": "ipython3",
   "version": "3.7.1"
  }
 },
 "nbformat": 4,
 "nbformat_minor": 2
}
