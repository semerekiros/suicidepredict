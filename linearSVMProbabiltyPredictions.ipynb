{
 "cells": [
  {
   "cell_type": "code",
   "execution_count": 31,
   "metadata": {},
   "outputs": [],
   "source": [
    "import pandas as pd\n",
    "import random\n",
    "from sklearn.model_selection import train_test_split\n",
    "import matplotlib.pyplot as plt\n",
    "import numpy as np\n",
    "from sklearn import preprocessing\n",
    "from scipy.sparse import hstack,vstack\n",
    "from sklearn.linear_model import LogisticRegression\n",
    "import taskALoader as t_a\n",
    "from sklearn.pipeline import Pipeline\n",
    "from sklearn.feature_extraction.text import TfidfVectorizer\n",
    "from sklearn.svm import LinearSVC,SVC\n",
    "from sklearn.utils import class_weight\n",
    "from sklearn.metrics import classification_report,accuracy_score\n",
    "from sklearn import svm\n",
    "from sklearn.model_selection import GridSearchCV,ShuffleSplit\n",
    "from sklearn.model_selection import PredefinedSplit\n",
    "from sklearn.preprocessing import LabelEncoder"
   ]
  },
  {
   "cell_type": "code",
   "execution_count": 32,
   "metadata": {},
   "outputs": [
    {
     "name": "stdout",
     "output_type": "stream",
     "text": [
      "['a' 'b' 'c' 'd']\n"
     ]
    }
   ],
   "source": [
    "df = pd.read_csv(\"task_A_dataset.csv\").fillna(' ')\n",
    "data = t_a.json_creator(df)\n",
    "X,y = t_a.get_data(data,post_title_weight=True)\n",
    "\n",
    "X_train_all, X_test, y_train_all, y_test = train_test_split(X, y, test_size=0.2, random_state=1)\n",
    "\n",
    "X_train, X_val, y_train, y_val  = train_test_split(X_train_all, y_train_all, test_size=0.25, random_state=1)"
   ]
  },
  {
   "cell_type": "code",
   "execution_count": 33,
   "metadata": {},
   "outputs": [],
   "source": [
    "df_from_json = df.from_dict(data)"
   ]
  },
  {
   "cell_type": "code",
   "execution_count": 34,
   "metadata": {},
   "outputs": [
    {
     "data": {
      "text/html": [
       "<div>\n",
       "<style scoped>\n",
       "    .dataframe tbody tr th:only-of-type {\n",
       "        vertical-align: middle;\n",
       "    }\n",
       "\n",
       "    .dataframe tbody tr th {\n",
       "        vertical-align: top;\n",
       "    }\n",
       "\n",
       "    .dataframe thead th {\n",
       "        text-align: right;\n",
       "    }\n",
       "</style>\n",
       "<table border=\"1\" class=\"dataframe\">\n",
       "  <thead>\n",
       "    <tr style=\"text-align: right;\">\n",
       "      <th></th>\n",
       "      <th>label</th>\n",
       "      <th>posts</th>\n",
       "      <th>user_id</th>\n",
       "    </tr>\n",
       "  </thead>\n",
       "  <tbody>\n",
       "    <tr>\n",
       "      <th>0</th>\n",
       "      <td>d</td>\n",
       "      <td>[[2injb4, 1412770416, SuicideWatch, I can't se...</td>\n",
       "      <td>16</td>\n",
       "    </tr>\n",
       "    <tr>\n",
       "      <th>1</th>\n",
       "      <td>c</td>\n",
       "      <td>[[10izh0, 1348693543, SuicideWatch, For a frie...</td>\n",
       "      <td>56</td>\n",
       "    </tr>\n",
       "    <tr>\n",
       "      <th>2</th>\n",
       "      <td>c</td>\n",
       "      <td>[[2oyc4z, 1418283108, SuicideWatch, I've been ...</td>\n",
       "      <td>137</td>\n",
       "    </tr>\n",
       "    <tr>\n",
       "      <th>3</th>\n",
       "      <td>a</td>\n",
       "      <td>[[15zrrk, 1357362241, SuicideWatch, I cant do ...</td>\n",
       "      <td>152</td>\n",
       "    </tr>\n",
       "    <tr>\n",
       "      <th>4</th>\n",
       "      <td>c</td>\n",
       "      <td>[[2jqzr0, 1413772908, SuicideWatch, Is it poss...</td>\n",
       "      <td>370</td>\n",
       "    </tr>\n",
       "  </tbody>\n",
       "</table>\n",
       "</div>"
      ],
      "text/plain": [
       "  label                                              posts  user_id\n",
       "0     d  [[2injb4, 1412770416, SuicideWatch, I can't se...       16\n",
       "1     c  [[10izh0, 1348693543, SuicideWatch, For a frie...       56\n",
       "2     c  [[2oyc4z, 1418283108, SuicideWatch, I've been ...      137\n",
       "3     a  [[15zrrk, 1357362241, SuicideWatch, I cant do ...      152\n",
       "4     c  [[2jqzr0, 1413772908, SuicideWatch, Is it poss...      370"
      ]
     },
     "execution_count": 34,
     "metadata": {},
     "output_type": "execute_result"
    }
   ],
   "source": [
    "df_from_json.head()"
   ]
  },
  {
   "cell_type": "code",
   "execution_count": null,
   "metadata": {},
   "outputs": [],
   "source": []
  },
  {
   "cell_type": "code",
   "execution_count": 35,
   "metadata": {},
   "outputs": [],
   "source": [
    "user_postss = list(df_from_json['posts'])"
   ]
  },
  {
   "cell_type": "code",
   "execution_count": 36,
   "metadata": {},
   "outputs": [
    {
     "data": {
      "text/plain": [
       "[['2injb4',\n",
       "  1412770416,\n",
       "  'SuicideWatch',\n",
       "  \"I can't see another way out.\",\n",
       "  \"I'm stuck and I hate it. I have zero confidence in myself, my abilities, my future. I'm stuck in a dead end job that I want badly to get out of, but every time I consider university courses or a better, more technical career, I choke and get terrified. I have no confidence that i'll ever be able to get out of the state i'm in now. I don't want to be doing this for the rest of my life. Right now I think the only thing keeping me alive is the fact that I don't want to put my parents through their son killing himself. Other than that, my future seems hopeless and bleak, i'm not confident enough that I can get the skills I need to change it. And I just think dying would be so much easier than trying and failing to change everything.\"],\n",
       " ['2s3if4',\n",
       "  1421012448,\n",
       "  'SuicideWatch',\n",
       "  \"Nothing is working and i'm sliding back down.\",\n",
       "  \"The more I think about things the more depressed I get and the more I consider suicide - or at least disappearing and living totally off grid - a viable option. The future is uncertain, bleak and terrifying and I can't see a way out. I'd give anything not to feel like this.\"]]"
      ]
     },
     "execution_count": 36,
     "metadata": {},
     "output_type": "execute_result"
    }
   ],
   "source": [
    "user_postss[0]"
   ]
  },
  {
   "cell_type": "code",
   "execution_count": 37,
   "metadata": {},
   "outputs": [],
   "source": [
    "\n",
    "all_posts = []\n",
    "\n",
    "    \n",
    "for user in user_postss:\n",
    "    one_user_posts = ''\n",
    "    for post_details in user:\n",
    "        one_user_posts=one_user_posts+\" \"+str(post_details[3])+\" \"+str(post_details[3])+\" \"+str(post_details[4])\n",
    "    all_posts.append(one_user_posts)\n",
    "\n"
   ]
  },
  {
   "cell_type": "code",
   "execution_count": 38,
   "metadata": {},
   "outputs": [],
   "source": [
    "df_from_json['data'] = all_posts\n",
    "\n",
    "lb_make = LabelEncoder()\n",
    "df_from_json[\"class\"] = lb_make.fit_transform(df_from_json[\"label\"])\n"
   ]
  },
  {
   "cell_type": "code",
   "execution_count": 39,
   "metadata": {},
   "outputs": [],
   "source": [
    "train_all_df,test_df= train_test_split(df_from_json, test_size=0.2, random_state=1)\n",
    "\n",
    "train_df, val_df = train_test_split(train_all_df,test_size=0.25, random_state=1)\n",
    "\n"
   ]
  },
  {
   "cell_type": "code",
   "execution_count": null,
   "metadata": {},
   "outputs": [],
   "source": []
  },
  {
   "cell_type": "code",
   "execution_count": null,
   "metadata": {},
   "outputs": [],
   "source": []
  },
  {
   "cell_type": "code",
   "execution_count": 40,
   "metadata": {},
   "outputs": [
    {
     "data": {
      "text/html": [
       "<div>\n",
       "<style scoped>\n",
       "    .dataframe tbody tr th:only-of-type {\n",
       "        vertical-align: middle;\n",
       "    }\n",
       "\n",
       "    .dataframe tbody tr th {\n",
       "        vertical-align: top;\n",
       "    }\n",
       "\n",
       "    .dataframe thead th {\n",
       "        text-align: right;\n",
       "    }\n",
       "</style>\n",
       "<table border=\"1\" class=\"dataframe\">\n",
       "  <thead>\n",
       "    <tr style=\"text-align: right;\">\n",
       "      <th></th>\n",
       "      <th>label</th>\n",
       "      <th>posts</th>\n",
       "      <th>user_id</th>\n",
       "      <th>data</th>\n",
       "      <th>class</th>\n",
       "    </tr>\n",
       "  </thead>\n",
       "  <tbody>\n",
       "    <tr>\n",
       "      <th>215</th>\n",
       "      <td>c</td>\n",
       "      <td>[[376zeb, 1432554024, SuicideWatch, I love lif...</td>\n",
       "      <td>20747</td>\n",
       "      <td>I love life, but I don't deserve it. I love l...</td>\n",
       "      <td>2</td>\n",
       "    </tr>\n",
       "    <tr>\n",
       "      <th>470</th>\n",
       "      <td>a</td>\n",
       "      <td>[[dv295, 1287781892, SuicideWatch, Need advice...</td>\n",
       "      <td>50028</td>\n",
       "      <td>Need advice regarding suicide and Japanese cu...</td>\n",
       "      <td>0</td>\n",
       "    </tr>\n",
       "    <tr>\n",
       "      <th>46</th>\n",
       "      <td>b</td>\n",
       "      <td>[[2x7ije, 1424932642, SuicideWatch, How does o...</td>\n",
       "      <td>5004</td>\n",
       "      <td>How does one get over the feeling of ending i...</td>\n",
       "      <td>1</td>\n",
       "    </tr>\n",
       "    <tr>\n",
       "      <th>495</th>\n",
       "      <td>c</td>\n",
       "      <td>[[h3vh5, 1304501676, SuicideWatch, I'm on the ...</td>\n",
       "      <td>51883</td>\n",
       "      <td>I'm on the path to success, yet I hate life a...</td>\n",
       "      <td>2</td>\n",
       "    </tr>\n",
       "    <tr>\n",
       "      <th>83</th>\n",
       "      <td>d</td>\n",
       "      <td>[[2w5194, 1424134288, SuicideWatch, Quickest s...</td>\n",
       "      <td>8554</td>\n",
       "      <td>Quickest suicide method? My loser boyfriend e...</td>\n",
       "      <td>3</td>\n",
       "    </tr>\n",
       "  </tbody>\n",
       "</table>\n",
       "</div>"
      ],
      "text/plain": [
       "    label                                              posts  user_id  \\\n",
       "215     c  [[376zeb, 1432554024, SuicideWatch, I love lif...    20747   \n",
       "470     a  [[dv295, 1287781892, SuicideWatch, Need advice...    50028   \n",
       "46      b  [[2x7ije, 1424932642, SuicideWatch, How does o...     5004   \n",
       "495     c  [[h3vh5, 1304501676, SuicideWatch, I'm on the ...    51883   \n",
       "83      d  [[2w5194, 1424134288, SuicideWatch, Quickest s...     8554   \n",
       "\n",
       "                                                  data  class  \n",
       "215   I love life, but I don't deserve it. I love l...      2  \n",
       "470   Need advice regarding suicide and Japanese cu...      0  \n",
       "46    How does one get over the feeling of ending i...      1  \n",
       "495   I'm on the path to success, yet I hate life a...      2  \n",
       "83    Quickest suicide method? My loser boyfriend e...      3  "
      ]
     },
     "execution_count": 40,
     "metadata": {},
     "output_type": "execute_result"
    }
   ],
   "source": [
    "train_df.head()"
   ]
  },
  {
   "cell_type": "code",
   "execution_count": 41,
   "metadata": {},
   "outputs": [
    {
     "name": "stdout",
     "output_type": "stream",
     "text": [
      "{0: 31, 1: 8, 2: 21, 3: 40}\n",
      "31.0\n",
      "8.0\n",
      "21.0\n",
      "40.0\n"
     ]
    },
    {
     "data": {
      "image/png": "[encoded data removed]",
      "text/plain": [
       "<Figure size 432x288 with 1 Axes>"
      ]
     },
     "metadata": {
      "needs_background": "light"
     },
     "output_type": "display_data"
    }
   ],
   "source": [
    "t_a.display_class_dis(y_test)"
   ]
  },
  {
   "cell_type": "code",
   "execution_count": 12,
   "metadata": {},
   "outputs": [],
   "source": [
    "corpus_df = pd.read_csv(\"clpsych19_training_data/shared_task_posts.csv\").fillna(' ')\n",
    "p_title = corpus_df['post_title']\n",
    "p_body = corpus_df['post_body']\n",
    "corpus_text = pd.concat([p_title,p_body]) "
   ]
  },
  {
   "cell_type": "code",
   "execution_count": 42,
   "metadata": {},
   "outputs": [],
   "source": [
    "def get_predefined_split(features_train, features_val, target_train, target_val):\n",
    "    always_train = np.empty((target_train.shape[0]), dtype=np.int32)\n",
    "    #print(target_train.shape[0])\n",
    "    always_train[:] = -1\n",
    "    always_validate = np.empty((target_val.shape[0]), dtype=np.int32)\n",
    "    always_validate[:] = 0\n",
    "    pred_split_indices = np.concatenate((always_train, always_validate))\n",
    "    curr_target_train = np.concatenate((target_train, target_val))\n",
    "    #curr_features_train = vstack((features_train, features_val))\n",
    "    curr_features_train = np.concatenate((features_train, features_val))\n",
    "   \n",
    "    ps = PredefinedSplit(test_fold=pred_split_indices)\n",
    "\n",
    "    return curr_features_train, curr_target_train, ps"
   ]
  },
  {
   "cell_type": "code",
   "execution_count": 43,
   "metadata": {},
   "outputs": [],
   "source": [
    "class TfidfVectorizerWrapper(TfidfVectorizer):\n",
    "    def fit(self,x,y=None, **fit_params):\n",
    "        x = corpus_text\n",
    "        return super(TfidfVectorizerWrapper, self).fit(x, y, **fit_params)\n",
    "        \n",
    "    def transform(self, x, y=None, **fit_params):\n",
    "        #x = [content.split('\\t')[0] for content in x]  # filtering the input\n",
    "        return super(TfidfVectorizerWrapper, self).transform(x, y, **fit_params)       "
   ]
  },
  {
   "cell_type": "code",
   "execution_count": null,
   "metadata": {},
   "outputs": [],
   "source": []
  },
  {
   "cell_type": "markdown",
   "metadata": {},
   "source": [
    "# Leave one out "
   ]
  },
  {
   "cell_type": "code",
   "execution_count": 62,
   "metadata": {},
   "outputs": [],
   "source": [
    "def runBestSVM(train,train_labels,test,best_pars):\n",
    "    \n",
    "    \n",
    "    c = best_pars['classifier__C']\n",
    "    multi_class = best_pars['classifier__multi_class']\n",
    "    max_features = best_pars['tfidf__max_features']\n",
    "    min_df = best_pars['tfidf__min_df']\n",
    "    ngram_range=best_pars['tfidf__ngram_range']\n",
    "    sublinear_tf = best_pars['tfidf__sublinear_tf']\n",
    "    use_idf = best_pars['tfidf__use_idf']\n",
    "    \n",
    "    linear_pipeline = Pipeline(\n",
    "        [\n",
    "            ('tfidf',\n",
    "             TfidfVectorizerWrapper(decode_error='ignore', \n",
    "                                    ngram_range=ngram_range, lowercase=True,stop_words='english',\n",
    "                             analyzer='word', max_features=max_features,min_df=min_df,\n",
    "                                    sublinear_tf=sublinear_tf,use_idf=use_idf)),\n",
    "            \n",
    "            ('classifier', LinearSVC(C=c,multi_class=multi_class,class_weight='balanced',max_iter=40000))]\n",
    "    )\n",
    "    \n",
    "    \n",
    "    #clf = linear_pipeline.fit(train,train_labels)\n",
    "    linear_pipeline.fit(train,train_labels)\n",
    "    #predicted=linear_pipeline.decision_function([test])\n",
    "    predicted=linear_pipeline.decision_function(test)\n",
    "    \n",
    "\n",
    "    return predicted"
   ]
  },
  {
   "cell_type": "code",
   "execution_count": 53,
   "metadata": {},
   "outputs": [],
   "source": [
    "#model = runBestLogistic(X_train,y_train,X_val,y_val,best_pars)\n",
    "#runBestLogistic(X_train,y_train,X_test,y_test,best_pars)"
   ]
  },
  {
   "cell_type": "code",
   "execution_count": 54,
   "metadata": {},
   "outputs": [],
   "source": [
    "import json\n",
    "\n",
    "with open('saved_best_pars/svm_best_pars.json') as f:\n",
    "    best_pars = json.load(f)"
   ]
  },
  {
   "cell_type": "code",
   "execution_count": 55,
   "metadata": {},
   "outputs": [
    {
     "data": {
      "text/plain": [
       "{'classifier__C': 0.001,\n",
       " 'classifier__multi_class': 'crammer_singer',\n",
       " 'tfidf__max_features': 400000,\n",
       " 'tfidf__min_df': 3,\n",
       " 'tfidf__ngram_range': [1, 2],\n",
       " 'tfidf__sublinear_tf': True,\n",
       " 'tfidf__use_idf': True}"
      ]
     },
     "execution_count": 55,
     "metadata": {},
     "output_type": "execute_result"
    }
   ],
   "source": [
    "best_pars"
   ]
  },
  {
   "cell_type": "code",
   "execution_count": 56,
   "metadata": {},
   "outputs": [],
   "source": [
    "\n"
   ]
  },
  {
   "cell_type": "code",
   "execution_count": 57,
   "metadata": {},
   "outputs": [
    {
     "data": {
      "text/plain": [
       "\"\\n#all_X = df_from_json['data']\\n\\nall_X = df_from_json['data']\\nall_y = df_from_json['class']\\nimport pickle\\nb_model = runBestSVM(X_train,y_train,X_val,best_pars)\\nfilename = 'B001_SVM_model_basic.sav'\\n\\n\\npickle.dump(b_model, open(filename, 'wb'))\\n\""
      ]
     },
     "execution_count": 57,
     "metadata": {},
     "output_type": "execute_result"
    }
   ],
   "source": [
    "'''\n",
    "#all_X = df_from_json['data']\n",
    "\n",
    "all_X = df_from_json['data']\n",
    "all_y = df_from_json['class']\n",
    "import pickle\n",
    "b_model = runBestSVM(X_train,y_train,X_val,best_pars)\n",
    "filename = 'B001_SVM_model_basic.sav'\n",
    "\n",
    "\n",
    "pickle.dump(b_model, open(filename, 'wb'))\n",
    "'''"
   ]
  },
  {
   "cell_type": "code",
   "execution_count": 25,
   "metadata": {},
   "outputs": [],
   "source": [
    "\n",
    "\n",
    "all_X = df_from_json['data']\n",
    "all_X[0]\n",
    "\n",
    "a=runBestSVM(X_train,y_train,all_X[0],best_pars)"
   ]
  },
  {
   "cell_type": "code",
   "execution_count": 26,
   "metadata": {},
   "outputs": [
    {
     "data": {
      "text/plain": [
       "array([[-0.0003308 , -0.00029144, -0.00027811,  0.00090035]])"
      ]
     },
     "execution_count": 26,
     "metadata": {},
     "output_type": "execute_result"
    }
   ],
   "source": [
    "a"
   ]
  },
  {
   "cell_type": "code",
   "execution_count": 58,
   "metadata": {},
   "outputs": [
    {
     "name": "stdout",
     "output_type": "stream",
     "text": [
      "44.6973192691803\n"
     ]
    }
   ],
   "source": [
    "import time\n",
    "all_X = list(train_df['data'])\n",
    "all_y = list(train_df['class'])\n",
    "\n",
    "pred_probs = []\n",
    "t1 = time.time()\n",
    "for i, post in enumerate(all_X):\n",
    "    \n",
    "    \n",
    "    \n",
    "    X_train = all_X[:i] + all_X[i+1:]\n",
    "    y_train = all_y[:i] + all_y[i+1:]\n",
    "    \n",
    "    \n",
    "    \n",
    "    X_val = post\n",
    "    #pred_probs.append(runBestLogistic(X_train,y_train,X_val,best_pars))\n",
    "    p=runBestSVM(X_train,y_train,X_val,best_pars)\n",
    "    pred_probs.append(p[0].tolist())\n",
    "    \n",
    "t2 = time.time()\n",
    "print(t2-t1)"
   ]
  },
  {
   "cell_type": "code",
   "execution_count": 59,
   "metadata": {},
   "outputs": [
    {
     "data": {
      "text/plain": [
       "297"
      ]
     },
     "execution_count": 59,
     "metadata": {},
     "output_type": "execute_result"
    }
   ],
   "source": [
    "len(pred_probs)"
   ]
  },
  {
   "cell_type": "code",
   "execution_count": 60,
   "metadata": {},
   "outputs": [],
   "source": [
    "X_train = train_df['data']\n",
    "y_train = train_df['class']\n",
    "X_val = val_df['data']\n",
    "y_val = val_df['class']"
   ]
  },
  {
   "cell_type": "code",
   "execution_count": 63,
   "metadata": {},
   "outputs": [],
   "source": [
    "val_probs = runBestSVM(X_train,y_train,X_val,best_pars)\n",
    "test_probs = runBestSVM(X_train,y_train,X_test,best_pars)"
   ]
  },
  {
   "cell_type": "code",
   "execution_count": 64,
   "metadata": {},
   "outputs": [],
   "source": [
    "for prob in val_probs:\n",
    "    #print(prob.tolist())\n",
    "    pred_probs.append(prob.tolist())"
   ]
  },
  {
   "cell_type": "code",
   "execution_count": 65,
   "metadata": {},
   "outputs": [],
   "source": [
    "for prob in test_probs:\n",
    "    \n",
    "    pred_probs.append(prob.tolist())"
   ]
  },
  {
   "cell_type": "code",
   "execution_count": 66,
   "metadata": {},
   "outputs": [
    {
     "data": {
      "text/plain": [
       "496"
      ]
     },
     "execution_count": 66,
     "metadata": {},
     "output_type": "execute_result"
    }
   ],
   "source": []
  },
  {
   "cell_type": "code",
   "execution_count": 67,
   "metadata": {},
   "outputs": [],
   "source": [
    "cls_a = []\n",
    "cls_b = []\n",
    "cls_c = []\n",
    "cls_d = []\n",
    "\n",
    "\n",
    "for prob in pred_probs:\n",
    "    cls_a.append(prob[0])\n",
    "    cls_b.append(prob[1])\n",
    "    cls_c.append(prob[2])\n",
    "    cls_d.append(prob[3])\n",
    "\n",
    "df_from_json['svm_a_prob'] = cls_a \n",
    "df_from_json['svm_b_prob'] = cls_b    \n",
    "df_from_json['svm_c_prob'] = cls_c\n",
    "df_from_json['svm_d_prob'] = cls_d"
   ]
  },
  {
   "cell_type": "code",
   "execution_count": 68,
   "metadata": {},
   "outputs": [],
   "source": [
    "df_from_json['posts'] = df_from_json['posts'].astype(object)"
   ]
  },
  {
   "cell_type": "code",
   "execution_count": 69,
   "metadata": {},
   "outputs": [],
   "source": [
    "df_from_json.head()\n",
    "\n",
    "df_from_json.to_csv(\"NewDataSet_with_SVM_Probs_297.csv\", encoding='utf-8', index=False)"
   ]
  },
  {
   "cell_type": "code",
   "execution_count": null,
   "metadata": {},
   "outputs": [],
   "source": []
  }
 ],
 "metadata": {
  "kernelspec": {
   "display_name": "Python 3",
   "language": "python",
   "name": "python3"
  },
  "language_info": {
   "codemirror_mode": {
    "name": "ipython",
    "version": 3
   },
   "file_extension": ".py",
   "mimetype": "text/x-python",
   "name": "python",
   "nbconvert_exporter": "python",
   "pygments_lexer": "ipython3",
   "version": "3.7.1"
  }
 },
 "nbformat": 4,
 "nbformat_minor": 2
}
