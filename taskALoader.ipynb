{
 "cells": [
  {
   "cell_type": "code",
   "execution_count": 10,
   "metadata": {},
   "outputs": [],
   "source": [
    "import pandas as pd\n",
    "import random\n",
    "from sklearn.model_selection import train_test_split\n",
    "import matplotlib.pyplot as plt\n",
    "import numpy as np\n",
    "from sklearn import preprocessing\n",
    "from scipy.sparse import hstack,vstack\n",
    "from sklearn.linear_model import LogisticRegression\n"
   ]
  },
  {
   "cell_type": "code",
   "execution_count": 11,
   "metadata": {},
   "outputs": [],
   "source": []
  },
  {
   "cell_type": "markdown",
   "metadata": {},
   "source": [
    "# Function to change dataframe to list of users with their labels and posts"
   ]
  },
  {
   "cell_type": "code",
   "execution_count": 12,
   "metadata": {},
   "outputs": [],
   "source": [
    "def json_creator(data_frame):\n",
    "    \n",
    "    data_in_json = []\n",
    "    \n",
    "    all_users = data_frame.groupby('user_id')\n",
    " \n",
    "    for username, one_user in all_users:\n",
    "        label = one_user.iloc[0]['raw_label']\n",
    "        user_id = int(one_user.iloc[0]['user_id'])\n",
    "        posts = []\n",
    "        user = {}\n",
    "        \n",
    "        for index,row in one_user.iterrows():\n",
    "            one_post = []\n",
    "            one_post.append(row['post_id'])\n",
    "            one_post.append(row['timestamp'])\n",
    "            one_post.append(row['subreddit'])\n",
    "            one_post.append(row['post_title'])\n",
    "            one_post.append(row['post_body'])\n",
    "\n",
    "\n",
    "            posts.append(one_post)\n",
    "\n",
    "        user ['user_id'] = user_id\n",
    "        user ['label'] = label\n",
    "        user ['posts'] = posts\n",
    "        data_in_json.append(user)\n",
    "    return data_in_json"
   ]
  },
  {
   "cell_type": "code",
   "execution_count": null,
   "metadata": {},
   "outputs": [],
   "source": []
  },
  {
   "cell_type": "markdown",
   "metadata": {},
   "source": [
    "# For each user concatenate all_posts+all_post_titles"
   ]
  },
  {
   "cell_type": "code",
   "execution_count": 7,
   "metadata": {},
   "outputs": [],
   "source": [
    "def concatenate_func(data,title_weight):\n",
    "\n",
    "    x_data = []\n",
    "    for user in data:\n",
    "        label= user['label']\n",
    "        all_posts =\"\"\n",
    "        for post in user['posts']:\n",
    "            if(title_weight):\n",
    "                all_posts=all_posts+\" \"+str(post[3])+\" \"+str(post[3])+\" \"+str(post[4])\n",
    "            else:\n",
    "                all_posts=all_posts+\" \"+str(post[3])+\" \"+str(post[4])\n",
    "        x_data.append((all_posts,label))\n",
    "        \n",
    "    return x_data"
   ]
  },
  {
   "cell_type": "code",
   "execution_count": 8,
   "metadata": {},
   "outputs": [],
   "source": [
    "\n",
    "    \n",
    "\n",
    "\n",
    "\n",
    "\n",
    "def get_data(data,post_title_weight):\n",
    "    \n",
    "    X = []\n",
    "    y = []\n",
    "\n",
    "    x_data = concatenate_func(data,post_title_weight)\n",
    "\n",
    "    for user in x_data:\n",
    "        X.append(user[0])\n",
    "        y.append(user[1])\n",
    "\n",
    "    le = preprocessing.LabelEncoder()\n",
    "    y=le.fit_transform(y)\n",
    "\n",
    "    return X,y"
   ]
  },
  {
   "cell_type": "markdown",
   "metadata": {},
   "source": [
    "# Function to Display class distribution"
   ]
  },
  {
   "cell_type": "code",
   "execution_count": 9,
   "metadata": {},
   "outputs": [],
   "source": [
    "def display_class_dis(y_labels):\n",
    "    unique,counts=np.unique(y_labels, return_counts=True)\n",
    "    percentage=dict(zip(unique,counts))\n",
    "\n",
    "    print(percentage)\n",
    "    s=sum(percentage.values())\n",
    "    #l=len(percentage))  \n",
    "\n",
    "    for k,v in percentage.items():\n",
    "        print((v/float(s))*100)\n",
    "\n",
    "\n",
    "    #objects = ('Python', 'C++', 'Java', 'Perl', 'Scala', 'Lisp')\n",
    "    objects = le.inverse_transform(unique)\n",
    "    #y_pos = np.arange(len(objects))\n",
    "    y_pos = np.arange(len(unique))\n",
    "    #performance = [10,8,6,4,2,1]\n",
    "    performance = counts\n",
    "    plt.bar(y_pos, performance, align='center', alpha=0.5)\n",
    "    plt.xticks(y_pos, objects)\n",
    "    plt.ylabel('Counts of samples')\n",
    "    plt.title('Data distribution')\n",
    "\n",
    "    plt.show()\n"
   ]
  },
  {
   "cell_type": "code",
   "execution_count": null,
   "metadata": {},
   "outputs": [],
   "source": []
  },
  {
   "cell_type": "code",
   "execution_count": null,
   "metadata": {},
   "outputs": [],
   "source": []
  },
  {
   "cell_type": "code",
   "execution_count": null,
   "metadata": {},
   "outputs": [],
   "source": []
  },
  {
   "cell_type": "code",
   "execution_count": null,
   "metadata": {},
   "outputs": [],
   "source": []
  },
  {
   "cell_type": "code",
   "execution_count": null,
   "metadata": {},
   "outputs": [],
   "source": []
  }
 ],
 "metadata": {
  "kernelspec": {
   "display_name": "Python 3",
   "language": "python",
   "name": "python3"
  },
  "language_info": {
   "codemirror_mode": {
    "name": "ipython",
    "version": 3
   },
   "file_extension": ".py",
   "mimetype": "text/x-python",
   "name": "python",
   "nbconvert_exporter": "python",
   "pygments_lexer": "ipython3",
   "version": "3.7.1"
  }
 },
 "nbformat": 4,
 "nbformat_minor": 2
}
